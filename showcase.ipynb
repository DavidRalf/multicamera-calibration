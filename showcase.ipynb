{
 "cells": [
  {
   "cell_type": "markdown",
   "id": "c65f42e7f24d1d75",
   "metadata": {},
   "source": [
    "# Introduction to the Usage of My Code\n",
    "\n",
    "Welcome to this Jupyter Notebook, which serves as a showcase for the usage of my code. This notebook is designed to assist you in creating your own code for further analyzing registered images.\n",
    "\n",
    "## Objectives\n",
    "\n",
    "In this notebook, we will cover the following topics:\n",
    "\n",
    "1. **Loading the Micasense Image**: Learn how to load the Micasense image.\n",
    "2. **Registering Images**: Explore two methods for image registration.\n",
    "3. **Saving Images**: Understand how to save the registered images.\n",
    "4. **Loading Registered Images**: Learn how to load the registered images.\n",
    "5. **RegisteredMicasense Class**: Discover how to handle the `RegisteredMicasense` class.\n"
   ]
  },
  {
   "cell_type": "markdown",
   "id": "fc70aa7d0f5f185d",
   "metadata": {},
   "source": [
    "## Loading the Micasense Image\n",
    "\n",
    "In this section, we will learn how to correctly load Micasense images using the classes provided in the Micasense repository: [Micasense Image Processing](https://github.com/micasense/imageprocessing/tree/master), to then use the registration code."
   ]
  },
  {
   "cell_type": "code",
   "execution_count": 6,
   "id": "715a44a5ac78fd7c",
   "metadata": {
    "jupyter": {
     "is_executing": true
    }
   },
   "outputs": [],
   "source": [
    "#Step 1: Import Required Classes\n",
    "from registration.registration_with_depth_matching import set_intrinsic\n",
    "from src import utils\n",
    "from micasense import capture\n",
    "from pathlib import Path\n",
    "\n",
    "# Step 2: Define Paths\n",
    "micasense_calib_path = \"calib/micasense_calib.yaml\"  # Path to the calibration file\n",
    "micasense_path = Path(\"/media/david/T71/multispektral/20240416_esteburg/0006SET/000\")  # Path to the images\n",
    "micasense_image_number = \"0042\"  # Specify the image number to load\n",
    "\n",
    "# Step 3: Load the Images\n",
    "image_names = sorted(list(micasense_path.glob(f'IMG_{micasense_image_number}_*.tif')))  # Collect image paths\n",
    "image_names = [x.as_posix() for x in image_names]  # Convert to POSIX paths\n",
    "\n",
    "# Create a Capture object from the file list\n",
    "thecapture = capture.Capture.from_filelist(image_names)  # Load the images into a Capture object\n",
    "\n",
    "# Read the Micasense calibration\n",
    "micasense_calib = utils.read_micasense_calib(micasense_calib_path)  # Load calibration data\n",
    "\n",
    "# Set the intrinsic parameters\n",
    "set_intrinsic(thecapture, micasense_calib)  # Apply the calibration to the capture\n"
   ]
  },
  {
   "cell_type": "markdown",
   "id": "a5608ffaec0fb433",
   "metadata": {},
   "source": [
    "## Registering Images\n",
    "\n",
    "In this section, we will explore how to use the two implemented methods for registering Micasense images: **Feature Matching** and **Depth Matching (3D Transformation)**. Each method has its own strengths and is suited for different scenarios depending on the nature of the images and the required accuracy.\n",
    "\n",
    "### Method 1: Feature Matching\n",
    "\n",
    "Feature matching involves identifying key points in the images and matching them to align the images.\n",
    "\n"
   ]
  },
  {
   "cell_type": "code",
   "execution_count": null,
   "id": "25df37f00461dfd",
   "metadata": {},
   "outputs": [],
   "source": [
    "# Step 1: Import Required Functions\n",
    "from registration.registration_with_feature_matching import register\n",
    "\n",
    "# Step 2: Specify Parameters\n",
    "version = \"upsampled\"  # Choose between \"stack\" or \"upsampled\"\n",
    "save_warp_matrices = True  # Set to True to save the warp matrices\n",
    "\n",
    "# Step 3: Register the Images\n",
    "file_names = utils.extract_all_image_names(image_names)  # Extract all image names from the capture\n",
    "registered_images = register(thecapture, version, save_warp_matrices, file_names)  # Register images"
   ]
  },
  {
   "cell_type": "markdown",
   "id": "1618777cd47812dd",
   "metadata": {},
   "source": [
    "\n",
    "### Method 2: Depth Matching (3D Transformation)\n",
    "\n",
    "Depth matching uses depth information along with intrinsic and extrinsic parameters between two cameras to align images"
   ]
  },
  {
   "cell_type": "code",
   "execution_count": null,
   "id": "a7752dba7bbc88c3",
   "metadata": {},
   "outputs": [],
   "source": [
    "# Import necessary libraries\n",
    "import cv2\n",
    "import numpy as np\n",
    "from registration.registration_with_depth_matching import register\n",
    "\n",
    "# Define paths\n",
    "depth_path = \"/media/david/T71/SAMSON1_depth_old/SAMSON1_depth\"\n",
    "samson1_path = \"calib/SAMSON1_SAMSON2_stereo.yaml\"\n",
    "\n",
    "# Determine the depth map number based on the image name\n",
    "depth_map_number = int(utils.get_number_from_image_name(image_names[0])) + 1\n",
    "\n",
    "# Define Basler camera size\n",
    "basler_size = (5328, 4608)\n",
    "\n",
    "# Find and load the corresponding depth map\n",
    "file_to_depth_map = utils.find_depth_map_file(depth_path, depth_map_number)\n",
    "depth_map = np.load(file_to_depth_map)\n",
    "\n",
    "# Resize the depth map to match the camera size\n",
    "depth_map_resized = cv2.resize(depth_map, basler_size, interpolation=cv2.INTER_LINEAR)\n",
    "\n",
    "# Read camera calibration parameters\n",
    "cal_samson_1 = utils.read_basler_calib(samson1_path)\n",
    "K_L, D_L, P_L, _ = cal_samson_1\n",
    "\n",
    "# Extract all image names from the capture\n",
    "file_names = utils.extract_all_image_names(image_names)\n",
    "\n",
    "# Perform depth matching registration\n",
    "registered_images = register(thecapture, depth_map_resized, micasense_calib, P_L, file_names)"
   ]
  },
  {
   "cell_type": "markdown",
   "id": "2135cdafe7b4896e",
   "metadata": {},
   "source": [
    "## Saving Images\n",
    "After successfully registering the images, it could be usefully to save the registered bands for further analysis. In this section, we will demonstrate how to save each registered image (band) as its own TIFF file.\n",
    "We will use the `save_images` method provided by the registered bands object to save each registered band as a separate TIFF file."
   ]
  },
  {
   "cell_type": "code",
   "execution_count": null,
   "id": "effa9055d7a28d05",
   "metadata": {},
   "outputs": [],
   "source": [
    "save_to = \"output/depth_matching\"  # Replace with your desired path\n",
    "\n",
    "# Save each registered image (band) as its own TIFF\n",
    "registered_images.save_images(save_to)"
   ]
  },
  {
   "cell_type": "markdown",
   "id": "a0f784dcaf2ad79e",
   "metadata": {},
   "source": [
    "## Loading Registered Images\n",
    "Once the images have been saved after registration, you can easily load them for further processing or analysis. In this section, we will demonstrate how to load registered images using the implemented `RegisteredMicasense` class.\n"
   ]
  },
  {
   "cell_type": "code",
   "execution_count": null,
   "id": "8a086fbfffd243be",
   "metadata": {
    "jupyter": {
     "is_executing": true
    }
   },
   "outputs": [],
   "source": [
    "# Import the RegisteredMicasense class\n",
    "from micasense.registered_micasense import RegisteredMicasense\n",
    "from pathlib import Path\n",
    "\n",
    "# Specify the path to the registered images\n",
    "path_to_registered_images = Path(save_to)  # Ensure save_to is defined and points to the correct directory\n",
    "image_number = \"0042\"  # Specify the image number you wish to load\n",
    "\n",
    "# Load image names matching the given image number\n",
    "image_names = sorted(path_to_registered_images.glob(f'IMG_{image_number}_*.tif'))\n",
    "image_names = [x.as_posix() for x in image_names]\n",
    "\n",
    "# Extract file names\n",
    "file_names = utils.extract_all_image_names(image_names)\n",
    "\n",
    "# Create a RegisteredMicasense object\n",
    "registered_images = RegisteredMicasense(image_names, file_names)"
   ]
  },
  {
   "metadata": {},
   "cell_type": "markdown",
   "source": [
    "## RegisteredMicasense Class\n",
    "The `RegisteredMicasense` class is implemented to handle registered Micasense RedEdge-P images. This class provides methods for accessing individual image bands and stacks of images, facilitating easier analysis and manipulation of multispectral data.\n",
    "### `get_image`\n",
    "The `get_image` method allows you to retrieve individual image bands either by their index or by their name."
   ],
   "id": "4c07c9b99c89eafa"
  },
  {
   "metadata": {},
   "cell_type": "code",
   "outputs": [],
   "execution_count": null,
   "source": [
    "# Retrieve the blue band by index\n",
    "blue_band_by_index = registered_images.get_image(0)  # Blue band\n",
    "\n",
    "# Retrieve the blue band by name\n",
    "blue_band_by_name = registered_images.get_image(\"blue\")  # Blue band"
   ],
   "id": "1314bc2c661ad61e"
  },
  {
   "cell_type": "markdown",
   "id": "a39bf8cbea0fa198",
   "metadata": {},
   "source": [
    "### `get_stack`\n",
    "The get_stack method retrieves multiple bands as a single stack. You can also crop the stack or select specific bands to create a stack."
   ]
  },
  {
   "metadata": {},
   "cell_type": "code",
   "outputs": [],
   "execution_count": null,
   "source": [
    "# Retrieve all 6 bands as a stack\n",
    "stack = registered_images.get_stack()\n",
    "\n",
    "# Retrieve all 6 bands as a cropped stack\n",
    "stack_crop = registered_images.get_stack(cropping=True)\n",
    "\n",
    "# Retrieve the RGB stack by index\n",
    "stack_rgb_by_index = registered_images.get_stack(images=[2, 1, 0])  # RGB stack\n",
    "\n",
    "# Retrieve the RGB stack by name\n",
    "stack_rgb_by_name = registered_images.get_stack(images=[\"red\", \"green\", \"blue\"])"
   ],
   "id": "aaedcc60d4be1ca3"
  },
  {
   "metadata": {},
   "cell_type": "markdown",
   "source": [
    "### `get_rgb_normalized`\n",
    "The `get_rgb_normalized` method is used to retrieve the normalized RGB representation of the registered Micasense images. This method can return the RGB image in various forms, including the option to crop and enhance the image.\n"
   ],
   "id": "49be3833735d2614"
  },
  {
   "metadata": {},
   "cell_type": "code",
   "outputs": [],
   "execution_count": null,
   "source": [
    "# Retrieve the RGB image\n",
    "rgb = registered_images.get_rgb_normalized()\n",
    "\n",
    "# Retrieve the RGB image with cropping\n",
    "rgb_crop = registered_images.get_rgb_normalized(crop=True)\n",
    "\n",
    "# Retrieve the cropped and enhanced RGB image\n",
    "rgb_crop_enhanced = registered_images.get_rgb_normalized(crop=True, enhanced=True)"
   ],
   "id": "990edd93c5b984fd"
  },
  {
   "metadata": {},
   "cell_type": "markdown",
   "source": [
    "### `get_cir_normalized`\n",
    "The `get_cir_normalized` method retrieves the normalized Continuous Infrared (CIR) representation of the registered Micasense images. This method can also return a cropped version of the CIR image if needed.\n"
   ],
   "id": "406bed17b48cbdf5"
  },
  {
   "metadata": {},
   "cell_type": "code",
   "outputs": [],
   "execution_count": null,
   "source": [
    "# Retrieve the normalized CIR image\n",
    "cir = registered_images.get_cir_normalized()\n",
    "\n",
    "# Retrieve the cropped CIR image\n",
    "cir_crop = registered_images.get_cir_normalized(cropping=True)"
   ],
   "id": "da2ec2de6420231"
  },
  {
   "metadata": {},
   "cell_type": "markdown",
   "source": [
    "### `get_ndvi`\n",
    "The `get_ndvi` method calculates and retrieves the Normalized Difference Vegetation Index (NDVI) from the registered Micasense images. NDVI is a widely used vegetation index that helps assess plant health and cover."
   ],
   "id": "e46ddfa7ef2998b5"
  },
  {
   "metadata": {},
   "cell_type": "code",
   "outputs": [],
   "execution_count": null,
   "source": [
    "# Calculate and retrieve the NDVI image\n",
    "ndvi = registered_images.get_ndvi()\n",
    "\n",
    "# Calculate and retrieve the cropped NDVI image\n",
    "ndvi_crop = registered_images.get_ndvi(cropping=True)"
   ],
   "id": "4f182bc7bb2e454b"
  },
  {
   "metadata": {},
   "cell_type": "markdown",
   "source": [
    "### `get_ndre`\n",
    "The `get_ndre` method calculates and retrieves the Normalized Difference Red Edge (NDRE) index from the registered Micasense images. NDRE is a useful vegetation index for assessing plant health, particularly in detecting nutrient stress in crops."
   ],
   "id": "e00f45df467a5342"
  },
  {
   "metadata": {},
   "cell_type": "code",
   "outputs": [],
   "execution_count": null,
   "source": [
    "# Calculate and retrieve the NDRE image\n",
    "ndre = registered_images.get_ndre()\n",
    "\n",
    "# Calculate and retrieve the cropped NDRE image\n",
    "ndre_crop = registered_images.get_ndre(cropping=True)"
   ],
   "id": "905edc80052c1af7"
  },
  {
   "metadata": {},
   "cell_type": "markdown",
   "source": [
    "## `Visualize the images`\n",
    "In this section, we will visualize the different processed images, including RGB, Color Infrared (CIR), NDVI, and NDRE images. Using Matplotlib, we can create a grid of subplots to display these images side by side for easy comparison."
   ],
   "id": "720dcc526f04d7ca"
  },
  {
   "metadata": {
    "ExecuteTime": {
     "end_time": "2024-09-09T06:03:06.604144Z",
     "start_time": "2024-09-09T06:03:06.041804Z"
    }
   },
   "cell_type": "code",
   "source": [
    "from matplotlib import pyplot as plt\n",
    "\n",
    "fig, axs = plt.subplots(4, 2, figsize=(12, 16))\n",
    "\n",
    "# Display RGB images\n",
    "axs[0, 0].imshow(rgb)\n",
    "axs[0, 0].set_title('RGB Image')\n",
    "axs[0, 0].axis('off')\n",
    "\n",
    "axs[0, 1].imshow(rgb_crop)\n",
    "axs[0, 1].set_title('Cropped RGB Image')\n",
    "axs[0, 1].axis('off')\n",
    "\n",
    "# Display CIR images\n",
    "axs[1, 0].imshow(cir)\n",
    "axs[1, 0].set_title('Color Infrared (CIR) Image')\n",
    "axs[1, 0].axis('off')\n",
    "\n",
    "axs[1, 1].imshow(cir_crop)\n",
    "axs[1, 1].set_title('Cropped CIR Image')\n",
    "axs[1, 1].axis('off')\n",
    "\n",
    "    # Display NDVI images\n",
    "axs[2, 0].imshow(ndvi, cmap='hot')\n",
    "axs[2, 0].set_title('NDVI Image')\n",
    "axs[2, 0].axis('off')\n",
    "\n",
    "axs[2, 1].imshow(ndvi_crop, cmap='hot')\n",
    "axs[2, 1].set_title('Cropped NDVI Image')\n",
    "axs[2, 1].axis('off')\n",
    "\n",
    "    # Display NDRE images\n",
    "axs[3, 0].imshow(ndre, cmap='hot')\n",
    "axs[3, 0].set_title('NDRE Image')\n",
    "axs[3, 0].axis('off')\n",
    "\n",
    "axs[3, 1].imshow(ndre_crop, cmap='hot')\n",
    "axs[3, 1].set_title('Cropped NDRE Image')\n",
    "axs[3, 1].axis('off')\n",
    "\n",
    "plt.tight_layout()\n",
    "plt.show()\n"
   ],
   "id": "3d2b9b1f02f71ef",
   "outputs": [
    {
     "ename": "NameError",
     "evalue": "name 'rgb' is not defined",
     "output_type": "error",
     "traceback": [
      "\u001B[0;31m---------------------------------------------------------------------------\u001B[0m",
      "\u001B[0;31mNameError\u001B[0m                                 Traceback (most recent call last)",
      "Cell \u001B[0;32mIn[11], line 6\u001B[0m\n\u001B[1;32m      3\u001B[0m fig, axs \u001B[38;5;241m=\u001B[39m plt\u001B[38;5;241m.\u001B[39msubplots(\u001B[38;5;241m4\u001B[39m, \u001B[38;5;241m2\u001B[39m, figsize\u001B[38;5;241m=\u001B[39m(\u001B[38;5;241m12\u001B[39m, \u001B[38;5;241m16\u001B[39m))\n\u001B[1;32m      5\u001B[0m \u001B[38;5;66;03m# Display RGB images\u001B[39;00m\n\u001B[0;32m----> 6\u001B[0m axs[\u001B[38;5;241m0\u001B[39m, \u001B[38;5;241m0\u001B[39m]\u001B[38;5;241m.\u001B[39mimshow(\u001B[43mrgb\u001B[49m)\n\u001B[1;32m      7\u001B[0m axs[\u001B[38;5;241m0\u001B[39m, \u001B[38;5;241m0\u001B[39m]\u001B[38;5;241m.\u001B[39mset_title(\u001B[38;5;124m'\u001B[39m\u001B[38;5;124mRGB Image\u001B[39m\u001B[38;5;124m'\u001B[39m)\n\u001B[1;32m      8\u001B[0m axs[\u001B[38;5;241m0\u001B[39m, \u001B[38;5;241m0\u001B[39m]\u001B[38;5;241m.\u001B[39maxis(\u001B[38;5;124m'\u001B[39m\u001B[38;5;124moff\u001B[39m\u001B[38;5;124m'\u001B[39m)\n",
      "\u001B[0;31mNameError\u001B[0m: name 'rgb' is not defined"
     ]
    },
    {
     "data": {
      "text/plain": [
       "<Figure size 1200x1600 with 8 Axes>"
      ],
      "image/png": "[encoded data removed]"
     },
     "metadata": {},
     "output_type": "display_data"
    }
   ],
   "execution_count": 11
  }
 ],
 "metadata": {
  "kernelspec": {
   "display_name": "Python [conda env:micasense] *",
   "language": "python",
   "name": "conda-env-micasense-py"
  },
  "language_info": {
   "codemirror_mode": {
    "name": "ipython",
    "version": 3
   },
   "file_extension": ".py",
   "mimetype": "text/x-python",
   "name": "python",
   "nbconvert_exporter": "python",
   "pygments_lexer": "ipython3",
   "version": "3.8.19"
  }
 },
 "nbformat": 4,
 "nbformat_minor": 5
}
